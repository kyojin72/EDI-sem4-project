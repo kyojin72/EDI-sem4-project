{
 "cells": [
  {
   "cell_type": "code",
   "execution_count": 6,
   "metadata": {},
   "outputs": [],
   "source": [
    "import requests\n",
    "import pandas as pd\n",
    "from textblob import Word\n",
    "import pickle\n",
    "from keras.models import load_model\n",
    "import re\n",
    "from nltk.corpus import stopwords \n",
    "from keras_preprocessing.sequence import pad_sequences\n",
    "from prettytable import PrettyTable\n",
    "\n",
    "from tweet import data_extract\n"
   ]
  },
  {
   "cell_type": "code",
   "execution_count": 7,
   "metadata": {},
   "outputs": [
    {
     "name": "stdout",
     "output_type": "stream",
     "text": [
      "WARNING:tensorflow:Layer lstm_1 will not use cuDNN kernels since it doesn't meet the criteria. It will use a generic GPU kernel as fallback when running on GPU.\n"
     ]
    }
   ],
   "source": [
    "model=load_model(\"lstm_model.h5\")\n",
    "with open(\"tokenizer.pickle\",\"rb\") as token_maker:\n",
    "    tokenizer=pickle.load(token_maker)"
   ]
  },
  {
   "cell_type": "code",
   "execution_count": 8,
   "metadata": {},
   "outputs": [],
   "source": [
    "def final_result(text):\n",
    "    text=re.sub(\"@\\S+|https?:\\S+|http?:\\S|[^A-Za-z0-9]+\",' ',text)\n",
    "    text=\" \".join([w for w in text.split() if w not in stopwords.words(\"english\")])\n",
    "    text=\" \".join([Word(w).lemmatize() for w in text.split()])\n",
    "    val = [0,1]\n",
    "    xt = tokenizer.texts_to_sequences(text)\n",
    "    xt = pad_sequences(xt,maxlen=28)\n",
    "    yt = model.predict(xt).argmax(axis=1)\n",
    "    if val[yt[0]]==1:\n",
    "        return \"Positive\"\n",
    "    return \"Negative\""
   ]
  },
  {
   "cell_type": "code",
   "execution_count": 9,
   "metadata": {},
   "outputs": [],
   "source": [
    "dxt=data_extract()"
   ]
  },
  {
   "cell_type": "code",
   "execution_count": 13,
   "metadata": {},
   "outputs": [
    {
     "name": "stdout",
     "output_type": "stream",
     "text": [
      "2/2 [==============================] - 0s 13ms/step\n"
     ]
    },
    {
     "ename": "ValueError",
     "evalue": "Column length 8 does not match number of rows 95",
     "output_type": "error",
     "traceback": [
      "\u001b[1;31m---------------------------------------------------------------------------\u001b[0m",
      "\u001b[1;31mValueError\u001b[0m                                Traceback (most recent call last)",
      "\u001b[1;32mc:\\Users\\GANESH\\Documents\\GitHub\\EDI-sem4-project\\final.ipynb Cell 5'\u001b[0m in \u001b[0;36m<cell line: 5>\u001b[1;34m()\u001b[0m\n\u001b[0;32m      <a href='vscode-notebook-cell:/c%3A/Users/GANESH/Documents/GitHub/EDI-sem4-project/final.ipynb#ch0000004?line=6'>7</a>\u001b[0m table\u001b[39m=\u001b[39mPrettyTable()\n\u001b[0;32m      <a href='vscode-notebook-cell:/c%3A/Users/GANESH/Documents/GitHub/EDI-sem4-project/final.ipynb#ch0000004?line=7'>8</a>\u001b[0m table\u001b[39m.\u001b[39madd_column(\u001b[39m'\u001b[39m\u001b[39mtweet\u001b[39m\u001b[39m'\u001b[39m,t)\n\u001b[1;32m----> <a href='vscode-notebook-cell:/c%3A/Users/GANESH/Documents/GitHub/EDI-sem4-project/final.ipynb#ch0000004?line=8'>9</a>\u001b[0m table\u001b[39m.\u001b[39;49madd_column(\u001b[39m'\u001b[39;49m\u001b[39msentiment\u001b[39;49m\u001b[39m'\u001b[39;49m,final_result(t))\n\u001b[0;32m     <a href='vscode-notebook-cell:/c%3A/Users/GANESH/Documents/GitHub/EDI-sem4-project/final.ipynb#ch0000004?line=9'>10</a>\u001b[0m \u001b[39mprint\u001b[39m(table)\n",
      "File \u001b[1;32mc:\\Users\\GANESH\\AppData\\Local\\Programs\\Python\\Python310\\lib\\site-packages\\prettytable\\prettytable.py:1456\u001b[0m, in \u001b[0;36mPrettyTable.add_column\u001b[1;34m(self, fieldname, column, align, valign)\u001b[0m\n\u001b[0;32m   1454\u001b[0m         \u001b[39mself\u001b[39m\u001b[39m.\u001b[39m_rows[i]\u001b[39m.\u001b[39mappend(column[i])\n\u001b[0;32m   1455\u001b[0m \u001b[39melse\u001b[39;00m:\n\u001b[1;32m-> 1456\u001b[0m     \u001b[39mraise\u001b[39;00m \u001b[39mValueError\u001b[39;00m(\n\u001b[0;32m   1457\u001b[0m         \u001b[39mf\u001b[39m\u001b[39m\"\u001b[39m\u001b[39mColumn length \u001b[39m\u001b[39m{\u001b[39;00m\u001b[39mlen\u001b[39m(column)\u001b[39m}\u001b[39;00m\u001b[39m does not match number of rows \u001b[39m\u001b[39m\"\u001b[39m\n\u001b[0;32m   1458\u001b[0m         \u001b[39mf\u001b[39m\u001b[39m\"\u001b[39m\u001b[39m{\u001b[39;00m\u001b[39mlen\u001b[39m(\u001b[39mself\u001b[39m\u001b[39m.\u001b[39m_rows)\u001b[39m}\u001b[39;00m\u001b[39m\"\u001b[39m\n\u001b[0;32m   1459\u001b[0m     )\n",
      "\u001b[1;31mValueError\u001b[0m: Column length 8 does not match number of rows 95"
     ]
    }
   ],
   "source": [
    "from msilib.schema import tables\n",
    "\n",
    "\n",
    "key_word=input(\"Enter the Keyword: \")\n",
    "while True:\n",
    "    t=dxt.get_data(str(key_word))[0][1]\n",
    "    table=PrettyTable()\n",
    "    table.add_column('tweet',t)\n",
    "    table.add_column('sentiment',final_result(t))\n",
    "    print(table)\n",
    "    \n",
    "    # print(table)\n",
    "    # print(\"tweet : \" + t + \" || sentiment : \" + final_result(t))\n",
    "    \n",
    "    \n",
    "    "
   ]
  },
  {
   "cell_type": "code",
   "execution_count": null,
   "metadata": {},
   "outputs": [],
   "source": []
  }
 ],
 "metadata": {
  "kernelspec": {
   "display_name": "Python 3.10.5 64-bit",
   "language": "python",
   "name": "python3"
  },
  "language_info": {
   "codemirror_mode": {
    "name": "ipython",
    "version": 3
   },
   "file_extension": ".py",
   "mimetype": "text/x-python",
   "name": "python",
   "nbconvert_exporter": "python",
   "pygments_lexer": "ipython3",
   "version": "3.10.5"
  },
  "orig_nbformat": 4,
  "vscode": {
   "interpreter": {
    "hash": "1b993aa8c3045274d6a26d96dd474cb7940b2235d212f0ad4eb03d976fbd5a31"
   }
  }
 },
 "nbformat": 4,
 "nbformat_minor": 2
}
