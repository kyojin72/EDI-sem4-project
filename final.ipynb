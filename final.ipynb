{
 "cells": [
  {
   "cell_type": "code",
   "execution_count": 35,
   "metadata": {},
   "outputs": [],
   "source": [
    "import requests\n",
    "import pandas as pd\n",
    "from textblob import Word\n",
    "import pickle\n",
    "from keras.models import load_model\n",
    "import re\n",
    "from nltk.corpus import stopwords \n",
    "from keras.preprocessing.sequence import pad_sequences\n",
    "\n",
    "from tweet import data_extract\n"
   ]
  },
  {
   "cell_type": "code",
   "execution_count": 36,
   "metadata": {},
   "outputs": [
    {
     "name": "stdout",
     "output_type": "stream",
     "text": [
      "WARNING:tensorflow:Layer lstm will not use cuDNN kernels since it doesn't meet the criteria. It will use a generic GPU kernel as fallback when running on GPU.\n"
     ]
    }
   ],
   "source": [
    "model=load_model(\"lstm1_model.h5\")\n",
    "with open(\"tokenizer.pickle\",\"rb\") as token_maker:\n",
    "    tokenizer=pickle.load(token_maker)"
   ]
  },
  {
   "cell_type": "code",
   "execution_count": 37,
   "metadata": {},
   "outputs": [],
   "source": [
    "def final_result(text):\n",
    "    text=re.sub(\"@\\S+|https?:\\S+|http?:\\S|[^A-Za-z0-9]+\",' ',text)\n",
    "    text=\" \".join([w for w in text.split() if w not in stopwords.words(\"english\")])\n",
    "    text=\" \".join([Word(w).lemmatize() for w in text.split()])\n",
    "    val = [0,1]\n",
    "    xt = tokenizer.texts_to_sequences(text)\n",
    "    xt = pad_sequences(xt)\n",
    "    yt = model.predict(xt).argmax(axis=1)\n",
    "    if val[yt[0]]==1:\n",
    "        return \"Positive\"\n",
    "    return \"Negative\""
   ]
  },
  {
   "cell_type": "code",
   "execution_count": 38,
   "metadata": {},
   "outputs": [],
   "source": [
    "dxt=data_extract()"
   ]
  },
  {
   "cell_type": "code",
   "execution_count": 39,
   "metadata": {},
   "outputs": [
    {
     "name": "stdout",
     "output_type": "stream",
     "text": [
      "WARNING:tensorflow:Model was constructed with shape (None, 28) for input KerasTensor(type_spec=TensorSpec(shape=(None, 28), dtype=tf.float32, name='embedding_input'), name='embedding_input', description=\"created by layer 'embedding_input'\"), but it was called on an input with incompatible shape (None, 1).\n",
      "tweet : @Stuuuck20 @mmpadellan Move to China or Russia if you don't care about democracy./t sentiment : Negative\n",
      "tweet : RT @SNMilitary: The FIRST China-Russia highway bridge, from Heihe, to the Russian city Blagoveshchensk, has opened to traffic on Friday. It…/t sentiment : Positive\n",
      "tweet : RT @HawkEye02723358: Now Russia, Iran, Venezuela do not want to sell in US$, and KSA will sell to China in yuan. KSA and UAE refused to tak…/t sentiment : Positive\n",
      "tweet : RT @HawkEye02723358: This has been intentional, as the relationship has been exploitative and parasitic. The Rest know this. And now Russia…/t sentiment : Positive\n",
      "tweet : RT @sarahrainsford: When Putin compared himself to Peter the Great he didn't look 'cornered' or defensive\n",
      "\n",
      "After 3+ months of war in Ukrain…/t sentiment : Positive\n",
      "tweet : @teslaownersSV @elonmusk Biden stop supplying arms to Ukraine lift sanctions against Russia . Gas Prices will tumble/t sentiment : Positive\n",
      "tweet : RT @PaoloBorg: Putin ha detto che riporterà alla Russia i territori dove ci sono popoli slavi e al confine con la Finlandia sono slavi\n",
      "Puti…/t sentiment : Positive\n",
      "tweet : @SiCk_DiAbLo @TwitchyTeam ...i'm still waiting for Shifty - and Swallowell - to produce the \"incontrovertible evidence\" both claimed to have on Trump-Russia...both should be investigated for prolonging an investigation they KNEW was a hoax...leftist barking moonbats should die out as a species./t sentiment : Negative\n",
      "tweet : Bianchi: \"A differenza della Russia qui non ci sono partiti da chiudere, non ci sono dei giornali da chiudere perché tanto sono tutti appiattiti sulla stessa posizione. Non ci sono neanche intellettuali che la pensano diversamente dal pensiero dominante\"/t sentiment : Negative\n",
      "tweet : @irune212a @FaithMcGuire_80 @McFaul Georgia has already been neutralized by Russia.\n",
      "I don't think the Russians want to directly border Turkey over there.\n",
      "Moldova is a basket-case already. Russia will watch it closely.\n",
      "Finland already has topographic defenses against Russia.\n",
      "Sweden has a giant sea-buffer./t sentiment : Positive\n",
      "tweet : RT @jason_meister: Jan 6 wasn’t an insurrection,Trump didn’t collude with Russia,Kavanaugh wasn’t a gang rapist,Smollett isn’t victim of ha…/t sentiment : Positive\n",
      "tweet : RT @SamRamani2: The UN Human Rights Office OHCHR says that Russian trials of foreign POWs in Ukraine amount to war crimes\n",
      "\n",
      "The POW fighters…/t sentiment : Positive\n",
      "tweet : @armscontrol_rus @RussiaUN @mfa_russia @RussianEmbassy @RusEmbUSA @U_MAROC @Dpol_un Death penalty Vs prison ...\n",
      "And you don't see the difference? 😒\n",
      "\n",
      "Just another way to see that Russia wipe itself with the Geneva convention, if we had any doubt about that... 😏/t sentiment : Positive\n",
      "tweet : RT @anders_aslund: Putin's speech yesterday made clear that Russia's territorial expansion is his goal. He does not recognize any rules or…/t sentiment : Positive\n",
      "tweet : Russia to legalize crypto payment  \n",
      "\n",
      "#Russia #cryptocurrencies #cryptopayments #cryptomarket #moneytransfer #economico #cryptodeskio \n",
      "#روسيا #عملات_رقمية #اقتصاد #الاستثمار #عملات_مشفرة #عجمان #کریبتودیسک https://t.co/C9obuSZqV1/t sentiment : Positive\n",
      "tweet : RT @MateuszSobiera3: \"If anyone decides to separate #Taiwan from #China, the Chinese army will not hesitate to start a war regardless of it…/t sentiment : Positive\n",
      "tweet : @Mazloum we could’ve really done with less of the russia storyline, all the scenes there felt so repetitive/t sentiment : Positive\n",
      "tweet : RT @visegrad24: The heads of state of the B9 countries meet in Bucharest today.\n",
      "\n",
      "The organization, focused on military co-op between 9 stat…/t sentiment : Positive\n"
     ]
    }
   ],
   "source": [
    "key_word=input(\"Enter the Keyword: \")\n",
    "while True:\n",
    "    t=dxt.get_data(str(key_word))[0][1]\n",
    "    print(\"tweet : \" + t + \"/t sentiment : \" + final_result(t))\n",
    "    \n",
    "    \n",
    "    "
   ]
  }
 ],
 "metadata": {
  "kernelspec": {
   "display_name": "Python 3.9.12 64-bit",
   "language": "python",
   "name": "python3"
  },
  "language_info": {
   "codemirror_mode": {
    "name": "ipython",
    "version": 3
   },
   "file_extension": ".py",
   "mimetype": "text/x-python",
   "name": "python",
   "nbconvert_exporter": "python",
   "pygments_lexer": "ipython3",
   "version": "3.9.12"
  },
  "orig_nbformat": 4,
  "vscode": {
   "interpreter": {
    "hash": "9914e116a5374b2bff9620cffda55a18bf7ad1aca0b02877c92a777ba6978604"
   }
  }
 },
 "nbformat": 4,
 "nbformat_minor": 2
}
