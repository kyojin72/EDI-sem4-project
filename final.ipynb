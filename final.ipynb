{
 "cells": [
  {
   "cell_type": "code",
   "execution_count": 16,
   "metadata": {},
   "outputs": [],
   "source": [
    "import requests\n",
    "import pandas as pd\n",
    "from textblob import Word\n",
    "import pickle\n",
    "from keras.models import load_model\n",
    "import re\n",
    "from nltk.corpus import stopwords \n",
    "from keras.preprocessing.sequence import pad_sequences\n",
    "\n",
    "from tweet import data_extract\n"
   ]
  },
  {
   "cell_type": "code",
   "execution_count": 17,
   "metadata": {},
   "outputs": [
    {
     "name": "stdout",
     "output_type": "stream",
     "text": [
      "WARNING:tensorflow:Layer lstm_1 will not use cuDNN kernels since it doesn't meet the criteria. It will use a generic GPU kernel as fallback when running on GPU.\n"
     ]
    }
   ],
   "source": [
    "model=load_model(\"lstm_model.h5\")\n",
    "with open(\"tokenizer.pickle\",\"rb\") as token_maker:\n",
    "    tokenizer=pickle.load(token_maker)"
   ]
  },
  {
   "cell_type": "code",
   "execution_count": 18,
   "metadata": {},
   "outputs": [],
   "source": [
    "def final_result(text):\n",
    "    text=re.sub(\"@\\S+|https?:\\S+|http?:\\S|[^A-Za-z0-9]+\",' ',text)\n",
    "    text=\" \".join([w for w in text.split() if w not in stopwords.words(\"english\")])\n",
    "    text=\" \".join([Word(w).lemmatize() for w in text.split()])\n",
    "    val = [0,1]\n",
    "    xt = tokenizer.texts_to_sequences(text)\n",
    "    xt = pad_sequences(xt,maxlen=28)\n",
    "    yt = model.predict(xt).argmax(axis=1)\n",
    "    if val[yt[0]]==1:\n",
    "        return \"Positive\"\n",
    "    return \"Negative\""
   ]
  },
  {
   "cell_type": "code",
   "execution_count": 19,
   "metadata": {},
   "outputs": [],
   "source": [
    "dxt=data_extract()"
   ]
  },
  {
   "cell_type": "code",
   "execution_count": 20,
   "metadata": {},
   "outputs": [
    {
     "name": "stdout",
     "output_type": "stream",
     "text": [
      "tweet : Elon Musk JUST Got KICKED OUT Of ESG! https://t.co/CCKUjbYHHu via @YouTube || sentiment : Positive\n",
      "tweet : RT @zerohedge: TWITTER SAYS CO HAS AND WILL CONTINUE TO COOPERATIVELY SHARE INFORMATION WITH ELON MUSK TO CONSUMMATE DEAL IN ACCORDANCE WIT… || sentiment : Positive\n",
      "tweet : This Week in Elon: Texas gets involved in the Twitter deal for some reason https://t.co/79yobLLsRT https://t.co/rjUdjkVO46 || sentiment : Positive\n"
     ]
    },
    {
     "ename": "KeyboardInterrupt",
     "evalue": "",
     "output_type": "error",
     "traceback": [
      "\u001b[1;31m---------------------------------------------------------------------------\u001b[0m",
      "\u001b[1;31mKeyboardInterrupt\u001b[0m                         Traceback (most recent call last)",
      "\u001b[1;32mc:\\Users\\ganes\\OneDrive\\Documents\\GitHub\\EDI-sem4-project\\final.ipynb Cell 5'\u001b[0m in \u001b[0;36m<cell line: 3>\u001b[1;34m()\u001b[0m\n\u001b[0;32m      <a href='vscode-notebook-cell:/c%3A/Users/ganes/OneDrive/Documents/GitHub/EDI-sem4-project/final.ipynb#ch0000005?line=0'>1</a>\u001b[0m key_word\u001b[39m=\u001b[39m\u001b[39minput\u001b[39m(\u001b[39m\"\u001b[39m\u001b[39mEnter the Keyword: \u001b[39m\u001b[39m\"\u001b[39m)\n\u001b[0;32m      <a href='vscode-notebook-cell:/c%3A/Users/ganes/OneDrive/Documents/GitHub/EDI-sem4-project/final.ipynb#ch0000005?line=1'>2</a>\u001b[0m \u001b[39mwhile\u001b[39;00m \u001b[39mTrue\u001b[39;00m:\n\u001b[1;32m----> <a href='vscode-notebook-cell:/c%3A/Users/ganes/OneDrive/Documents/GitHub/EDI-sem4-project/final.ipynb#ch0000005?line=2'>3</a>\u001b[0m     t\u001b[39m=\u001b[39mdxt\u001b[39m.\u001b[39;49mget_data(\u001b[39mstr\u001b[39;49m(key_word))[\u001b[39m0\u001b[39m][\u001b[39m1\u001b[39m]\n\u001b[0;32m      <a href='vscode-notebook-cell:/c%3A/Users/ganes/OneDrive/Documents/GitHub/EDI-sem4-project/final.ipynb#ch0000005?line=3'>4</a>\u001b[0m     \u001b[39mprint\u001b[39m(\u001b[39m\"\u001b[39m\u001b[39mtweet : \u001b[39m\u001b[39m\"\u001b[39m \u001b[39m+\u001b[39m t \u001b[39m+\u001b[39m \u001b[39m\"\u001b[39m\u001b[39m || sentiment : \u001b[39m\u001b[39m\"\u001b[39m \u001b[39m+\u001b[39m final_result(t))\n",
      "File \u001b[1;32mc:\\Users\\ganes\\OneDrive\\Documents\\GitHub\\EDI-sem4-project\\tweet.py:14\u001b[0m, in \u001b[0;36mdata_extract.get_data\u001b[1;34m(self, keyword)\u001b[0m\n\u001b[0;32m     12\u001b[0m \u001b[39mdef\u001b[39;00m \u001b[39mget_data\u001b[39m(\u001b[39mself\u001b[39m,keyword):\n\u001b[0;32m     13\u001b[0m     tweet_results \u001b[39m=\u001b[39m \u001b[39mself\u001b[39m\u001b[39m.\u001b[39mget_tweet(\u001b[39mself\u001b[39m\u001b[39m.\u001b[39mparams(\u001b[39mstr\u001b[39m(keyword\u001b[39m+\u001b[39m\u001b[39m'\u001b[39m\u001b[39m -is\u001b[39m\u001b[39m%\u001b[39m\u001b[39m3Aretweet\u001b[39m\u001b[39m'\u001b[39m)))\n\u001b[1;32m---> 14\u001b[0m     results \u001b[39m=\u001b[39m \u001b[39mself\u001b[39;49m\u001b[39m.\u001b[39;49mtweet_data(tweet_results)\n\u001b[0;32m     15\u001b[0m     ret_vals \u001b[39m=\u001b[39m []\n\u001b[0;32m     16\u001b[0m     \u001b[39mfor\u001b[39;00m result \u001b[39min\u001b[39;00m results:\n",
      "File \u001b[1;32mc:\\Users\\ganes\\OneDrive\\Documents\\GitHub\\EDI-sem4-project\\tweet.py:71\u001b[0m, in \u001b[0;36mdata_extract.tweet_data\u001b[1;34m(self, tweets)\u001b[0m\n\u001b[0;32m     69\u001b[0m     info\u001b[39m.\u001b[39mappend(\u001b[39m'\u001b[39m\u001b[39m-1\u001b[39m\u001b[39m'\u001b[39m)\n\u001b[0;32m     70\u001b[0m \u001b[39mif\u001b[39;00m \u001b[39m'\u001b[39m\u001b[39mlocation\u001b[39m\u001b[39m'\u001b[39m \u001b[39min\u001b[39;00m result[\u001b[39m'\u001b[39m\u001b[39mincludes\u001b[39m\u001b[39m'\u001b[39m][\u001b[39m'\u001b[39m\u001b[39musers\u001b[39m\u001b[39m'\u001b[39m][\u001b[39m0\u001b[39m]:\n\u001b[1;32m---> 71\u001b[0m     locs \u001b[39m=\u001b[39m le\u001b[39m.\u001b[39;49mfind_locations(text\u001b[39m=\u001b[39;49mresult[\u001b[39m'\u001b[39;49m\u001b[39mincludes\u001b[39;49m\u001b[39m'\u001b[39;49m][\u001b[39m'\u001b[39;49m\u001b[39musers\u001b[39;49m\u001b[39m'\u001b[39;49m][\u001b[39m0\u001b[39;49m][\u001b[39m'\u001b[39;49m\u001b[39mlocation\u001b[39;49m\u001b[39m'\u001b[39;49m])\n\u001b[0;32m     72\u001b[0m     \u001b[39mif\u001b[39;00m locs\u001b[39m.\u001b[39mcountries:\n\u001b[0;32m     73\u001b[0m         info\u001b[39m.\u001b[39mappend(locs\u001b[39m.\u001b[39mcountries[\u001b[39m0\u001b[39m])\n",
      "File \u001b[1;32mc:\\Users\\ganes\\AppData\\Local\\Programs\\Python\\Python39\\lib\\site-packages\\locationtagger\\__init__.py:10\u001b[0m, in \u001b[0;36mfind_locations\u001b[1;34m(url, text)\u001b[0m\n\u001b[0;32m      8\u001b[0m locs\u001b[39m.\u001b[39mset_countries()\n\u001b[0;32m      9\u001b[0m locs\u001b[39m.\u001b[39mset_regions()\n\u001b[1;32m---> 10\u001b[0m locs\u001b[39m.\u001b[39;49mset_cities()\n\u001b[0;32m     11\u001b[0m locs\u001b[39m.\u001b[39mset_other()\n\u001b[0;32m     13\u001b[0m \u001b[39mreturn\u001b[39;00m locs\n",
      "File \u001b[1;32mc:\\Users\\ganes\\AppData\\Local\\Programs\\Python\\Python39\\lib\\site-packages\\locationtagger\\locationextractor.py:182\u001b[0m, in \u001b[0;36mLocationExtractor.set_cities\u001b[1;34m(self)\u001b[0m\n\u001b[0;32m    180\u001b[0m cur \u001b[39m=\u001b[39m \u001b[39mself\u001b[39m\u001b[39m.\u001b[39mconn\u001b[39m.\u001b[39mcursor()\n\u001b[0;32m    181\u001b[0m cur\u001b[39m.\u001b[39mexecute(\u001b[39m\"\u001b[39m\u001b[39mSELECT * FROM locations WHERE LOWER(city_name) IN (\u001b[39m\u001b[39m\"\u001b[39m \u001b[39m+\u001b[39m \u001b[39m\"\u001b[39m\u001b[39m,\u001b[39m\u001b[39m\"\u001b[39m\u001b[39m.\u001b[39mjoin(\u001b[39m\"\u001b[39m\u001b[39m?\u001b[39m\u001b[39m\"\u001b[39m\u001b[39m*\u001b[39m\u001b[39mlen\u001b[39m(\u001b[39mself\u001b[39m\u001b[39m.\u001b[39mnamed_entities)) \u001b[39m+\u001b[39m \u001b[39m\"\u001b[39m\u001b[39m)\u001b[39m\u001b[39m\"\u001b[39m, [p\u001b[39m.\u001b[39mlower() \u001b[39mfor\u001b[39;00m p \u001b[39min\u001b[39;00m \u001b[39mself\u001b[39m\u001b[39m.\u001b[39mnamed_entities])\n\u001b[1;32m--> 182\u001b[0m rows \u001b[39m=\u001b[39m cur\u001b[39m.\u001b[39;49mfetchall()\n\u001b[0;32m    184\u001b[0m \u001b[39mfor\u001b[39;00m row \u001b[39min\u001b[39;00m rows:\n\u001b[0;32m    185\u001b[0m     country \u001b[39m=\u001b[39m \u001b[39mNone\u001b[39;00m\n",
      "\u001b[1;31mKeyboardInterrupt\u001b[0m: "
     ]
    }
   ],
   "source": [
    "key_word=input(\"Enter the Keyword: \")\n",
    "while True:\n",
    "    t=dxt.get_data(str(key_word))[0][1]\n",
    "    print(\"tweet : \" + t + \" || sentiment : \" + final_result(t))\n",
    "    \n",
    "    \n",
    "    "
   ]
  }
 ],
 "metadata": {
  "kernelspec": {
   "display_name": "Python 3.9.12 64-bit",
   "language": "python",
   "name": "python3"
  },
  "language_info": {
   "codemirror_mode": {
    "name": "ipython",
    "version": 3
   },
   "file_extension": ".py",
   "mimetype": "text/x-python",
   "name": "python",
   "nbconvert_exporter": "python",
   "pygments_lexer": "ipython3",
   "version": "3.9.12"
  },
  "orig_nbformat": 4,
  "vscode": {
   "interpreter": {
    "hash": "9914e116a5374b2bff9620cffda55a18bf7ad1aca0b02877c92a777ba6978604"
   }
  }
 },
 "nbformat": 4,
 "nbformat_minor": 2
}
